{
 "cells": [
  {
   "cell_type": "markdown",
   "metadata": {},
   "source": [
    "# POP-UP FLOAT (PUF) INTRODUCTION"
   ]
  },
  {
   "cell_type": "markdown",
   "metadata": {},
   "source": [
    "### Low Cost Expendable Buoys for Under Ice Data Collection, Innovative Technology for Arctic Exploration (ITAE)"
   ]
  },
  {
   "cell_type": "markdown",
   "metadata": {},
   "source": [
    "The data from the Arduino-controlled pop-up floats begins in 2015 and will end in 2022. <br>\n",
    "PMEL accomplished 6 seasons of deployments of prototype and pilot test pop-up floats; simultaneously developing the engineering of the floats and acquiring novel data. <br>\n",
    "The pop-up project is a collaborative effort within the Pacific Environmental Marine Lab (PMEL) between the Ecosystem Fisheries-Oceanography Coordinated Investigations (EcoFOCI) and the Engineering Development Division (EDD). <br>\n",
    "Initial prototyping and development of the pop-up floats began under Lieutenant Daniel Langis, NOAA Corps from 2015 through 2018, and was continued by Lieutenant Sarah Donohoe, NOAA Corps from 2018 through 2021. <br> \n",
    "\n",
    "Successful deployments were conducted in: <br>\n",
    "- 2015 Gen 1 Sat-Tag prototype, not arduino controlled <br>\n",
    "- 2017 Gen 2 arduino controlled floats <br>\n",
    "- 2018 Gen 3 arduino controlled floats<br>\n",
    "- 2019 Gen 3.1 arduino controlled floats <br>\n",
    "- 2020 Gen 3.1 arduino controlled floats<br>\n",
    "- 2021 Gen 3.2 arduino controlled floats<br>"
   ]
  },
  {
   "cell_type": "markdown",
   "metadata": {},
   "source": [
    "<div class=\"alert alert-block alert-info\">\n",
    "<b>Tip:</b> This Jupyter Notebook is only setup to process data from Gen 3 to Gen 3.2"
   ]
  },
  {
   "cell_type": "markdown",
   "metadata": {},
   "source": [
    "## IMMEDIATE SCIENCE APPLICATIONS\n",
    "#### Under Ice Production \n",
    "> Measure conditions and productivity levels under Arctic sea ice. <br>\n",
    "The primary interest is in productivity at the water-ice boundary where productivity is very high in the spring before ice melt and ambient light levels are rapidly rising. <br>\n",
    "#### Bering Cold Pool\n",
    "> Measure conditions in the Bering Sea to map the cold pool. <br>\n",
    "Bottom temperatures below 2 °C characterize the Bering Sea cold pool, an important refuge for young pollock from predation. The primary interest is in measuring the extent, thickness and varying light levels of the cold pool through the winter months and how it changes over time. "
   ]
  },
  {
   "cell_type": "markdown",
   "metadata": {},
   "source": [
    "## LONG-TERM PROJECT VISION\n",
    "### *“Robust, inexpensive, and expendable, but sophisticated enough to acquire oceanographic-quality data.”* <br> \n",
    "> The pop-up float was developed as a unique product designed to fill the gap in available technology between year-round deeper moorings and surface-based sampling in the summers. However, because of the harsh and unpredictable environment of shifting and breaking ice, actually acquiring measurements close to the ice during the winter and spring without losing instruments has been notoriously difficult.  The pop-up project aims to develop a low-cost, expendable oceanographic instrument that can be easily deployed by hand from any vessel and that will reliably transmit data back via satellite. \n",
    "#### Long-term goals for this project include: \n",
    "- maintaining low-cost production and deployment (~$3,000 / pop-up)\n",
    "- an environmentally friendly design with biodegradable materials (glass, cork, metals)\n",
    "- up to 24 month at-sea endurance\n",
    "- the ability to send commands with 2-way communication to the float (commands to resend data files, change sampling frequencies...etc.)\n",
    "- Pop-up floats are autonomous, low-cost and provide oceanographic quality data\n",
    "The float is housed in a commercially available orange trawl float\n",
    "Through-hull ports are machined into the float to accept a suite of sensors that remain water-tight with o-ring seals\n",
    "a modular design that allows sensors to be added or removed easily depending on mission and budget requirements. \n"
   ]
  },
  {
   "cell_type": "markdown",
   "metadata": {},
   "source": [
    "## FLOAT DESIGN, SENSORS, AND FUNCTION\n",
    "> Pop-up floats are autonomous, low-cost and provide oceanographic quality data <br>\n",
    "The float is housed in a commercially available orange trawl float <br>\n",
    "Through-hull ports are machined into the float to accept a suite of sensors that remain water-tight with o-ring seals <br>"
   ]
  },
  {
   "cell_type": "markdown",
   "metadata": {},
   "source": [
    "## ![Gen3.2Diagram](../documentation/2021_Gen3.2_labelled_drawing.jpg)"
   ]
  },
  {
   "cell_type": "markdown",
   "metadata": {},
   "source": [
    "<div class=\"alert alert-block alert-info\">\n",
    "<b>Tip:</b> Pop-Up Float sensors are modular, not every unit has the same set of sensors integrated! Many floats were only outfitted with Temperature and Pressure. This info is in the unit's .yaml file"
   ]
  },
  {
   "cell_type": "markdown",
   "metadata": {},
   "source": [
    "#### Topside Temperature Probe (TTP) \n",
    "- 3-4m resolution, ±0.01°C @4Hz\n",
    "- Sensor: TTI inc,  USP19572 REVA\n",
    "- Absolute Accuracy: ±0.01°C or better\n",
    "- Range: -5°C to +70°C\n",
    "- Resolution:\n",
    "    - 0.0006°C @ -2°C\n",
    "    - 0.001°C @ 10°C \n",
    "    - 0.002°C @25°C\n",
    "    - 0.01°C @50°C\n",
    "\n",
    "#### Sea Surface Temperature (SST) \n",
    "- 3-4m resolution, ±0.01°C @4Hz\n",
    "- Sensor:In-House (NTC Thermistor 50k Bead Epoxy, Hex Head Plug 1/16”, Arctic Silver Alumina)\n",
    "- Absolute Accuracy: ±0.01°C or better\n",
    "- Range: -5°C to +70°C\n",
    "\n",
    "#### Pressure Sensor \n",
    "-  3-4m resolution, ±1m @4Hz \n",
    "- Sensors: Keller PA-4LD OEM Pressure Transmitter \n",
    "- Absolute Accuracy: ±70cm (10 bar) / ±0.7%FS\n",
    "- Range: 0 to 100m (10 bar) / 0 to 300m (30bar)\n",
    "- Resolution: 0.3cm (10 bar) / \n",
    "\n",
    "#### GPS \n",
    "- Position Accuracy ~3meters 50% CEP\n",
    "- Unit: AMC-PA6H Alphamicro \n",
    "- High Sensitivity: -165 dBm, TCXO Design\n",
    "- Position Accuracy: <3.0M 50% CEP\n",
    "- GPS Antenna: Adafruit External Active 960 \n",
    "\n",
    "#### Iridium SBD \n",
    "- full two-way communication system, DoD Network Whitelisted OR Inmarsat Gov\n",
    "- Unit: RockBLOCK 9603\n",
    "- Power Consumption: max 450 mA (100mA required)\n",
    "- Iridium Antenna: Maxtena Helical 1621Mhz tuned patch antenna\n",
    "\n",
    "\n",
    "#### Clock\n",
    "- Unit: DS3234: RTC with Temperature Compensated Crystal Oscillator\n",
    "- Maximum Error: 1.05 minutes/year (0°C to 40°C)\n",
    "- 1.84 minutes/year (-40°C to 85°C)\n",
    "\n",
    "#### PAR \n",
    "- ±3%-5% @4Hz\n",
    "- Sensor: Skye Instruments TAG-PARQ (Quantum) \n",
    "- Absolute Accuracy: ±3%-5% or better\n",
    "- Range: 0 to 1000 μmol/m2s\n",
    "- Sensitivity-current(I): 2μA/100μmol/m2s\n",
    "- Sensitivity-voltage(V): 1mV/100μmol/m2s            \n",
    "- Response Time: 10ns\n",
    "\n",
    "#### Tilt \n",
    "- ±2.0° @4Hz\n",
    "- Sensor: ADXL345 3-Axis Digital Accelerometer\n",
    "- Absolute Accuracy: Depends on Mounting/Calibration\n",
    "- Sensor is accurate for changes as little as 1.0°\n",
    "\n",
    "#### Camera\n",
    "- Unit: μCAM-III \n",
    "- Resolution: (80X60 / 160X120 / 160X128 / 640X480)\n",
    "- Output: Raw or JPEG\n",
    "- Lens Angle: 116 degrees\n",
    "\t\t\n",
    "\n",
    "#### Fluorometer\t\t\t\n",
    "- Sensor: Turner Designs Cyclops-7F\n",
    "- Linear Range: 0-500μg/L\n",
    "- Minimum Detection: 0.03μg/L\n",
    "- Depth Range: 600m\n",
    "- Power Requirement: 240mW @ 12V\n"
   ]
  },
  {
   "cell_type": "markdown",
   "metadata": {},
   "source": [
    "## ![PUF_phases](../documentation/PUF_phases.jpg)"
   ]
  },
  {
   "cell_type": "markdown",
   "metadata": {},
   "source": [
    "<div class=\"alert alert-block alert-info\">\n",
    "<b>Tip:</b> When in the surface phase, the Topside Temperature Probe (TTP) located on the endcap is actually in the air, above the surface- while the Sea Surface Temperature (SST) probe is approximately 8 inches below the surface. \n",
    "</div>"
   ]
  },
  {
   "cell_type": "markdown",
   "metadata": {},
   "source": [
    "## DATA TRANSMISSION"
   ]
  },
  {
   "cell_type": "markdown",
   "metadata": {},
   "source": [
    "Once a GPS lock is found, the unit will attempt to transmit messages back via iridium SBD. \n",
    "Data is parsed from the SD Card and transmitted 100 characters at a time.  \n",
    "The files are sent back in order of priority (profile data first, followed by under ice data, followed by bottom data).  If the unit sends a message successfully, but then loses Iridium connection before sending all data (which happens often), it will go to sleep, but set the RTC to wake up the unit in 5 minutes, rather than the under ice sample interval.  This 5 minute interval is used to get data back more quickly and take advantage of the calm sea state which is likely when the unit first surfaces.  After all data is eventually sent, the unit will revert to sending its most recent GPS location and sample data once every 3 hours. <br>\n",
    "The SD Card will contain 2 files in addition to the data files: filepos.txt and summary.txt.  The first unique message the unit attempts to send is summary.txt (simply a list of the files on the card and how long they are, to gauge how successful the unit was and how much data to expect.  Filepos.txt is a single line text file used for the unit to remember how far along it is in the transmission process.  Its format is “X,NNNNNNNNNNNNN”, where X indicates which file to open and NNNNNNNNNNNNN is the position to start reading the file (simply the number of characters after the start of the file).  This is the exact same format for received messages. <br>\n",
    "<br>\n",
    "Values for X are as follows:\n",
    "- ‘p’: “prodat.txt”\n",
    "- ‘i’: “icedat.txt”\n",
    "- ‘b’: “botdat.txt”\n",
    "- ‘z’: if the file (or received message) starts with ‘z’, this should mean that the unit has completed sending all data and is now in sleep mode.  NNNNNNNNNNNNN will indicate the interval, in seconds, for how long the unit will wait between sending updates on its most recent GPS location and sample data.  By default, this is once per day.  \n"
   ]
  },
  {
   "cell_type": "markdown",
   "metadata": {},
   "source": [
    "### SBDIX Key \n",
    "The SBDIX command denotes the status of your sent, received and queued messages:\n",
    "- *MO status*:  Any returned number with a value of 0 to 2 indicates your message has been successfully transmitted. Any number above 2 indicates that the message has not been successfully transmitted.\n",
    "- *MOMSN*:  This number denotes the MO message number and cycles between 0 and 65535.\n",
    "- *MT status*:\n",
    "    - 0  No messages waiting to be received.\n",
    "    - 1  New message successfully received.\n",
    "    - 2  Error during mailbox check / message reception.\n",
    "- *MTMSN*:  This number denotes the MT message number and cycles between 0 and 65535.\n",
    "- *MT length*:  The size (in bytes) of the MT message.\n",
    "- *MT queued*:  The number of MT messages in the queue waiting to be downloaded.\n"
   ]
  },
  {
   "cell_type": "markdown",
   "metadata": {},
   "source": [
    "***"
   ]
  },
  {
   "cell_type": "markdown",
   "metadata": {},
   "source": [
    "# HOW TO PROCESS POP-UP FLOAT RAW SBD DATA"
   ]
  },
  {
   "cell_type": "markdown",
   "metadata": {},
   "source": [
    "## Step 1. \n",
    "\n",
    "## Step 1. Clone [EcoFOCI_PopUp] (https://github.com/NOAA-PMEL/EcoFOCI_PopUp.git) repository from GitHub to local machine. \n",
    "This is most easily done using GitHub desktop.  \n",
    "<br>\n",
    "## Step 2. Download raw .sbd messages from ecoraid\n",
    "\n",
    " Open PuTTY application\n",
    " Login to akutan server\n",
    " \n"
   ]
  },
  {
   "cell_type": "markdown",
   "metadata": {},
   "source": [
    "<div class=\"alert alert-block alert-info\">\n",
    "<b>Tip:</b> Every day at 3pm PST SBD messages are automatically copied over from the ecofoci.popupsbd@noaa.gov account to ecoraid. The automation for this was set up by Willa Zhu.\n",
    "    </div>"
   ]
  },
  {
   "cell_type": "markdown",
   "metadata": {},
   "source": [
    "## DATA STRUCTURE\n",
    "\n",
    "Data downloaded from Popup Buoy's directly, generate 8 binary files. \n",
    "- BOTDAT.TXT\n",
    "- FILEPOS.TXT\n",
    "- ICEDAT.TXT\n",
    "- JPGxxxxx.JPG\n",
    "- PRODAT.TXT\n",
    "- SSTDAT.TXT\n",
    "- SUMMARY.TXT"
   ]
  },
  {
   "cell_type": "markdown",
   "metadata": {},
   "source": [
    "## A list of pop-up units that sucessfully transmitted data from the field\n",
    "#### *year deployed* - *imei number* - *site: SBD Active/Inactive* \n",
    " - 2018 - 300434063921240 - C2: Inactive  <br>\n",
    " - 2018 - 300434063823800 - C10/C11: Inactive  <br>\n",
    " - 2018 - 300434063928220 - C12: Inactive  <br>\n",
    " - 2018 - 300434063925210 - M5: Inactive  <br>\n",
    " <br>\n",
    " - 2019 - 300434063470010 - S.W. of M5: Inative  <br>\n",
    " - 2019 - 300434063477010 - N.W. of M5: Inactive  <br>\n",
    " - 2019 - 300434063861360 - N.E. of Saint Lawrence: Inactive  <br>\n",
    " - 2019 - 300434063474010 - M8 PopTop: Inactive  <br>\n",
    " <br>\n",
    " - 2020 - 300434063479200 - C2: Active  <br>\n",
    " - 2020 - 300434063924230 - C12: Active  <br>"
   ]
  },
  {
   "cell_type": "code",
   "execution_count": null,
   "metadata": {},
   "outputs": [],
   "source": []
  }
 ],
 "metadata": {
  "kernelspec": {
   "display_name": "Python 3 (ipykernel)",
   "language": "python",
   "name": "python3"
  },
  "language_info": {
   "codemirror_mode": {
    "name": "ipython",
    "version": 3
   },
   "file_extension": ".py",
   "mimetype": "text/x-python",
   "name": "python",
   "nbconvert_exporter": "python",
   "pygments_lexer": "ipython3",
   "version": "3.9.1"
  }
 },
 "nbformat": 4,
 "nbformat_minor": 4
}
