{
 "cells": [
  {
   "cell_type": "markdown",
   "metadata": {},
   "source": [
    "# POP-UP FLOAT (PUF) Data Processing Instructions"
   ]
  },
  {
   "cell_type": "markdown",
   "metadata": {},
   "source": [
    "### Step 1. Download raw .sbd messages from ecoraid\n",
    " - Open PuTTY application and Login to akutan server \n",
    " - Open WinSCP application and Login to akutan server\n",
    " - In WinSCP, open a session and in Akutan navigate to /home/ecoraid/data/ITAE/Popup_Buoys/SBD_DataRetrieval/eclipse.pmel.noaa.gov/sbd/data\n",
    " - On your local machine navigate to your cloned GitHub repository at EcoFOCI_PopUp\\Data\\rawdata\\\n",
    " - Download either the entire ecofoci.popupsbd folder from akutan to your local machine, or go into the ecofoci.popupsbd folders on both your local machine and in akutan to download specific pop-up float data based on their long IMEI serial numbers. \n",
    " \n"
   ]
  },
  {
   "cell_type": "markdown",
   "metadata": {},
   "source": [
    "<div class=\"alert alert-block alert-info\">\n",
    "<b>Tip:</b> Every day at 3pm PST SBD messages are automatically copied over from the ecofoci.popupsbd@noaa.gov account to ecoraid. The automation for this was set up by Willa Zhu.\n",
    "    </div>"
   ]
  },
  {
   "cell_type": "markdown",
   "metadata": {},
   "source": [
    "### Step 2. Add Inputs and Run 02_PopUpFloat_Stitcher.ipynb \n",
    "- scroll down until you reach the INPUT cell\n",
    "    >INPUT the imei number of the unit of interest. You can list multiple imei's, separated by a comma (as long as year of data transmission and deployment are the same!)\n",
    "    <br> ex. id_dir=['300434063479200']\n",
    "\n",
    "    >INPUT the year of data transmission you are interested in looking at\n",
    "    <br> ex. tx = '2021'\n",
    "\n",
    "    >INPUT the year the float was deployed\n",
    "   <br> ex.  year = '2020'\n",
    "- run script by navigating to tool bar in top left and click \"Run > Run All Cells\""
   ]
  },
  {
   "cell_type": "markdown",
   "metadata": {},
   "source": [
    "<div class=\"alert alert-block alert-info\">\n",
    "<b>Tip:</b> <br>\n",
    " The PopUpFloat Stitcher notebook will ingest raw sbd messages (chunks of hex data broken into 338 bytes) and stitch them back together as binary files. <br>\n",
    "    - BOTDAT.TXT<br>\n",
    "    - ICEDAT.TXT<br>\n",
    "    - JPGxxxxx.JPG<br>\n",
    "    - PRODAT.TXT<br>\n",
    "    - SSTDAT.TXT<br>\n",
    " Message position is recovered from \n",
    "    - message_position_.csv<br>\n",
    "    *these files will be saved as output in the EcoFOCI_PopUp\\Data\\results\\'year'\\'imei' ... where 'year' in the results folder is the year the unit was deployed*<br>"
   ]
  },
  {
   "cell_type": "markdown",
   "metadata": {},
   "source": [
    "### Step 3. Add Inputs and Run 03_PopUpFloat_Translater.ipynb\n",
    "- scroll down until you reach the INPUT cell  \n",
    "\n",
    "    > INPUT unit imei number <br> ex. instid = '300434063479200' <br>\n",
    "\n",
    "    > INPUT last 4 digits of imei <br> ex. sn = '9200'  <br>\n",
    "\n",
    "    > INPUT year of deployment <br> ex. year = '2020' \n",
    "\n",
    "- run script by navigating to tool bar in top left and click \"Run > Run All Cells\""
   ]
  },
  {
   "cell_type": "markdown",
   "metadata": {},
   "source": [
    "<div class=\"alert alert-block alert-info\">\n",
    "<b>Tip:</b> <br>\n",
    " The PopUpFloat Translator notebook will ingest the binary files and use the .yaml file to translate engineering units into science units. <br> \n",
    "    The script will also attempt to write the following files:<br>\n",
    "    - _bottom_data.csv<br>\n",
    "    - _bottom_data.png<br>\n",
    "    - _ice_data.csv<br>\n",
    "    - _ice_data.png<br>\n",
    "    - _pro-data_simple.png<br>\n",
    "    - _profile_data.csv<br>\n",
    "    - _profile_data.facetgrid.png<br>\n",
    "    - _sst_data.csv<br>\n",
    "    - _sst_data.png<br>\n",
    "    - _sst_dataGPSmap.png<br>\n",
    "    *these files will be saved as output in the EcoFOCI_PopUp\\Data\\results\\'year'\\'imei' ... where 'year' in the results folder is the year the unit was deployed*<br>"
   ]
  },
  {
   "cell_type": "code",
   "execution_count": null,
   "metadata": {},
   "outputs": [],
   "source": []
  }
 ],
 "metadata": {
  "kernelspec": {
   "display_name": "Python 3",
   "language": "python",
   "name": "python3"
  },
  "language_info": {
   "codemirror_mode": {
    "name": "ipython",
    "version": 3
   },
   "file_extension": ".py",
   "mimetype": "text/x-python",
   "name": "python",
   "nbconvert_exporter": "python",
   "pygments_lexer": "ipython3",
   "version": "3.7.3"
  }
 },
 "nbformat": 4,
 "nbformat_minor": 4
}
